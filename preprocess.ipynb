{
 "cells": [
  {
   "cell_type": "code",
   "execution_count": 1,
   "id": "b1b0a550",
   "metadata": {},
   "outputs": [
    {
     "name": "stdout",
     "output_type": "stream",
     "text": [
      "Conexão ao banco estabelecida.\n"
     ]
    },
    {
     "name": "stderr",
     "output_type": "stream",
     "text": [
      "WARNING:  database \"mimiciv\" has a collation version mismatch\n",
      "DETAIL:  The database was created using collation version 2.35, but the operating system provides version 2.39.\n",
      "HINT:  Rebuild all objects in this database that use the default collation and run ALTER DATABASE mimiciv REFRESH COLLATION VERSION, or build PostgreSQL with the right library version.\n"
     ]
    }
   ],
   "source": [
    "import os\n",
    "import psycopg2\n",
    "import pandas as pd\n",
    "import numpy as np\n",
    "from datetime import timedelta\n",
    "from sklearn.preprocessing import StandardScaler\n",
    "import joblib\n",
    "\n",
    "\n",
    "conn = psycopg2.connect(\n",
    "    dbname=\"mimiciv\",\n",
    "    user=\"uti_user\",\n",
    "    password=\"s0f4C1#4\",\n",
    "    host=\"localhost\",\n",
    "    port=\"5432\"\n",
    ")\n",
    "print(\"Conexão ao banco estabelecida.\")"
   ]
  },
  {
   "cell_type": "code",
   "execution_count": 2,
   "id": "e5c31efa",
   "metadata": {},
   "outputs": [
    {
     "name": "stdout",
     "output_type": "stream",
     "text": [
      "Total pacientes no coorte: 52028\n"
     ]
    },
    {
     "name": "stderr",
     "output_type": "stream",
     "text": [
      "/tmp/ipykernel_158969/1357890584.py:37: UserWarning: pandas only supports SQLAlchemy connectable (engine/connection) or database string URI or sqlite3 DBAPI2 connection. Other DBAPI2 objects are not tested. Please consider using SQLAlchemy.\n",
      "  df_coorte = pd.read_sql(\"SELECT COUNT(*) AS n_coorte FROM coorte_uti;\", conn)\n"
     ]
    }
   ],
   "source": [
    "cursor = conn.cursor()\n",
    "cursor.execute(\"ROLLBACK\")\n",
    "cursor.execute(\"\"\"\n",
    "CREATE TEMP TABLE coorte_uti AS\n",
    "WITH primeira_uti AS (\n",
    "    SELECT\n",
    "        i.subject_id,\n",
    "        i.hadm_id,\n",
    "        i.stay_id,\n",
    "        i.intime,\n",
    "        i.outtime,\n",
    "        ROW_NUMBER() OVER (PARTITION BY i.hadm_id ORDER BY i.intime) AS rn\n",
    "        -- Se quiser 1ª UTI da vida do paciente, troque acima por:\n",
    "        -- ROW_NUMBER() OVER (PARTITION BY i.subject_id ORDER BY i.intime) AS rn\n",
    "    FROM mimiciv_icu.icustays i\n",
    ")\n",
    "SELECT\n",
    "    p.subject_id,\n",
    "    p.hadm_id,\n",
    "    p.stay_id,\n",
    "    p.intime,\n",
    "    p.outtime,\n",
    "    EXTRACT(EPOCH FROM (p.outtime - p.intime)) / 3600.0 AS los_hours,\n",
    "    /* idade aproximada na admissão hospitalar usando âncoras do MIMIC-IV */\n",
    "    (pat.anchor_age + EXTRACT(YEAR FROM adm.admittime)::INT - pat.anchor_year) AS idade_admissao\n",
    "FROM primeira_uti p\n",
    "JOIN mimiciv_hosp.admissions adm ON p.hadm_id = adm.hadm_id\n",
    "JOIN mimiciv_hosp.patients   pat ON p.subject_id = pat.subject_id\n",
    "WHERE p.rn = 1\n",
    "  AND (pat.anchor_age + EXTRACT(YEAR FROM adm.admittime)::INT - pat.anchor_year) >= 18   -- adultos\n",
    "  AND (p.outtime - p.intime) >= INTERVAL '24 hours';                                      -- LOS ≥ 24h\n",
    "\"\"\")\n",
    "conn.commit()\n",
    "\n",
    "\n",
    "\n",
    "df_coorte = pd.read_sql(\"SELECT COUNT(*) AS n_coorte FROM coorte_uti;\", conn)\n",
    "print(\"Total pacientes no coorte:\", df_coorte['n_coorte'][0])\n"
   ]
  }
 ],
 "metadata": {
  "kernelspec": {
   "display_name": "Python (WSL)",
   "language": "python",
   "name": "wsl_env"
  },
  "language_info": {
   "codemirror_mode": {
    "name": "ipython",
    "version": 3
   },
   "file_extension": ".py",
   "mimetype": "text/x-python",
   "name": "python",
   "nbconvert_exporter": "python",
   "pygments_lexer": "ipython3",
   "version": "3.12.4"
  }
 },
 "nbformat": 4,
 "nbformat_minor": 5
}
